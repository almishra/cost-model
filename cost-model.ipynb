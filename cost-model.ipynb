{
 "cells": [
  {
   "cell_type": "code",
   "execution_count": 1,
   "metadata": {},
   "outputs": [],
   "source": [
    "import pandas as pd\n",
    "import numpy as np\n",
    "import matplotlib.pyplot as plt\n",
    "from sklearn.preprocessing import StandardScaler\n",
    "from sklearn.decomposition import PCA as sklearnPCA\n",
    "from sklearn.svm import SVR\n",
    "from sklearn.metrics import mean_squared_error"
   ]
  },
  {
   "cell_type": "code",
   "execution_count": 2,
   "metadata": {
    "scrolled": true
   },
   "outputs": [
    {
     "name": "stdout",
     "output_type": "stream",
     "text": [
      "CPU times: user 213 ms, sys: 36.4 ms, total: 249 ms\n",
      "Wall time: 250 ms\n"
     ]
    },
    {
     "data": {
      "text/html": [
       "<div>\n",
       "<style scoped>\n",
       "    .dataframe tbody tr th:only-of-type {\n",
       "        vertical-align: middle;\n",
       "    }\n",
       "\n",
       "    .dataframe tbody tr th {\n",
       "        vertical-align: top;\n",
       "    }\n",
       "\n",
       "    .dataframe thead th {\n",
       "        text-align: right;\n",
       "    }\n",
       "</style>\n",
       "<table border=\"1\" class=\"dataframe\">\n",
       "  <thead>\n",
       "    <tr style=\"text-align: right;\">\n",
       "      <th></th>\n",
       "      <th>Kernel</th>\n",
       "      <th>Architechture</th>\n",
       "      <th>Vendor</th>\n",
       "      <th>CPUs</th>\n",
       "      <th>Cycle</th>\n",
       "      <th>L1</th>\n",
       "      <th>L2</th>\n",
       "      <th>L3</th>\n",
       "      <th>RAM)</th>\n",
       "      <th>Threads</th>\n",
       "      <th>...</th>\n",
       "      <th>addInt</th>\n",
       "      <th>addFloat</th>\n",
       "      <th>mulInt</th>\n",
       "      <th>mulFloat</th>\n",
       "      <th>assignInt</th>\n",
       "      <th>assignFloat</th>\n",
       "      <th>addAssignInt</th>\n",
       "      <th>addAssignFloat</th>\n",
       "      <th>postIncInt</th>\n",
       "      <th>Time</th>\n",
       "    </tr>\n",
       "  </thead>\n",
       "  <tbody>\n",
       "    <tr>\n",
       "      <th>0</th>\n",
       "      <td>kernel_100_100_1_5_9_0</td>\n",
       "      <td>x86_64</td>\n",
       "      <td>Intel</td>\n",
       "      <td>40</td>\n",
       "      <td>1000</td>\n",
       "      <td>640</td>\n",
       "      <td>20480</td>\n",
       "      <td>27648</td>\n",
       "      <td>187.57</td>\n",
       "      <td>28</td>\n",
       "      <td>...</td>\n",
       "      <td>0</td>\n",
       "      <td>0</td>\n",
       "      <td>0</td>\n",
       "      <td>0</td>\n",
       "      <td>0</td>\n",
       "      <td>0</td>\n",
       "      <td>0</td>\n",
       "      <td>0</td>\n",
       "      <td>1</td>\n",
       "      <td>0.001</td>\n",
       "    </tr>\n",
       "    <tr>\n",
       "      <th>1</th>\n",
       "      <td>kernel_100_100_1_5_9_1</td>\n",
       "      <td>x86_64</td>\n",
       "      <td>Intel</td>\n",
       "      <td>40</td>\n",
       "      <td>1000</td>\n",
       "      <td>640</td>\n",
       "      <td>20480</td>\n",
       "      <td>27648</td>\n",
       "      <td>187.57</td>\n",
       "      <td>28</td>\n",
       "      <td>...</td>\n",
       "      <td>200</td>\n",
       "      <td>0</td>\n",
       "      <td>0</td>\n",
       "      <td>0</td>\n",
       "      <td>300</td>\n",
       "      <td>0</td>\n",
       "      <td>0</td>\n",
       "      <td>0</td>\n",
       "      <td>101</td>\n",
       "      <td>0.001</td>\n",
       "    </tr>\n",
       "    <tr>\n",
       "      <th>2</th>\n",
       "      <td>kernel_100_100_1_5_9_2</td>\n",
       "      <td>x86_64</td>\n",
       "      <td>Intel</td>\n",
       "      <td>40</td>\n",
       "      <td>1000</td>\n",
       "      <td>640</td>\n",
       "      <td>20480</td>\n",
       "      <td>27648</td>\n",
       "      <td>187.57</td>\n",
       "      <td>28</td>\n",
       "      <td>...</td>\n",
       "      <td>0</td>\n",
       "      <td>0</td>\n",
       "      <td>603</td>\n",
       "      <td>0</td>\n",
       "      <td>703</td>\n",
       "      <td>0</td>\n",
       "      <td>0</td>\n",
       "      <td>0</td>\n",
       "      <td>101</td>\n",
       "      <td>0.001</td>\n",
       "    </tr>\n",
       "    <tr>\n",
       "      <th>3</th>\n",
       "      <td>kernel_100_100_1_5_9_3</td>\n",
       "      <td>x86_64</td>\n",
       "      <td>Intel</td>\n",
       "      <td>40</td>\n",
       "      <td>1000</td>\n",
       "      <td>640</td>\n",
       "      <td>20480</td>\n",
       "      <td>27648</td>\n",
       "      <td>187.57</td>\n",
       "      <td>28</td>\n",
       "      <td>...</td>\n",
       "      <td>200</td>\n",
       "      <td>0</td>\n",
       "      <td>603</td>\n",
       "      <td>0</td>\n",
       "      <td>1003</td>\n",
       "      <td>0</td>\n",
       "      <td>0</td>\n",
       "      <td>0</td>\n",
       "      <td>201</td>\n",
       "      <td>0.001</td>\n",
       "    </tr>\n",
       "    <tr>\n",
       "      <th>4</th>\n",
       "      <td>kernel_100_100_1_5_9_4</td>\n",
       "      <td>x86_64</td>\n",
       "      <td>Intel</td>\n",
       "      <td>40</td>\n",
       "      <td>1000</td>\n",
       "      <td>640</td>\n",
       "      <td>20480</td>\n",
       "      <td>27648</td>\n",
       "      <td>187.57</td>\n",
       "      <td>28</td>\n",
       "      <td>...</td>\n",
       "      <td>0</td>\n",
       "      <td>0</td>\n",
       "      <td>0</td>\n",
       "      <td>0</td>\n",
       "      <td>100</td>\n",
       "      <td>0</td>\n",
       "      <td>1007</td>\n",
       "      <td>0</td>\n",
       "      <td>101</td>\n",
       "      <td>0.001</td>\n",
       "    </tr>\n",
       "    <tr>\n",
       "      <th>...</th>\n",
       "      <td>...</td>\n",
       "      <td>...</td>\n",
       "      <td>...</td>\n",
       "      <td>...</td>\n",
       "      <td>...</td>\n",
       "      <td>...</td>\n",
       "      <td>...</td>\n",
       "      <td>...</td>\n",
       "      <td>...</td>\n",
       "      <td>...</td>\n",
       "      <td>...</td>\n",
       "      <td>...</td>\n",
       "      <td>...</td>\n",
       "      <td>...</td>\n",
       "      <td>...</td>\n",
       "      <td>...</td>\n",
       "      <td>...</td>\n",
       "      <td>...</td>\n",
       "      <td>...</td>\n",
       "      <td>...</td>\n",
       "      <td>...</td>\n",
       "    </tr>\n",
       "    <tr>\n",
       "      <th>138363</th>\n",
       "      <td>kernel_600_600_1_5_9_123</td>\n",
       "      <td>x86_64</td>\n",
       "      <td>Intel</td>\n",
       "      <td>40</td>\n",
       "      <td>1000</td>\n",
       "      <td>640</td>\n",
       "      <td>20480</td>\n",
       "      <td>27648</td>\n",
       "      <td>187.57</td>\n",
       "      <td>28</td>\n",
       "      <td>...</td>\n",
       "      <td>1200</td>\n",
       "      <td>1200</td>\n",
       "      <td>3603</td>\n",
       "      <td>3603</td>\n",
       "      <td>8403</td>\n",
       "      <td>4803</td>\n",
       "      <td>0</td>\n",
       "      <td>6007</td>\n",
       "      <td>4801</td>\n",
       "      <td>0.057</td>\n",
       "    </tr>\n",
       "    <tr>\n",
       "      <th>138364</th>\n",
       "      <td>kernel_600_600_1_5_9_124</td>\n",
       "      <td>x86_64</td>\n",
       "      <td>Intel</td>\n",
       "      <td>40</td>\n",
       "      <td>1000</td>\n",
       "      <td>640</td>\n",
       "      <td>20480</td>\n",
       "      <td>27648</td>\n",
       "      <td>187.57</td>\n",
       "      <td>28</td>\n",
       "      <td>...</td>\n",
       "      <td>0</td>\n",
       "      <td>1200</td>\n",
       "      <td>0</td>\n",
       "      <td>3603</td>\n",
       "      <td>3000</td>\n",
       "      <td>4803</td>\n",
       "      <td>6007</td>\n",
       "      <td>6007</td>\n",
       "      <td>4201</td>\n",
       "      <td>0.061</td>\n",
       "    </tr>\n",
       "    <tr>\n",
       "      <th>138365</th>\n",
       "      <td>kernel_600_600_1_5_9_125</td>\n",
       "      <td>x86_64</td>\n",
       "      <td>Intel</td>\n",
       "      <td>40</td>\n",
       "      <td>1000</td>\n",
       "      <td>640</td>\n",
       "      <td>20480</td>\n",
       "      <td>27648</td>\n",
       "      <td>187.57</td>\n",
       "      <td>28</td>\n",
       "      <td>...</td>\n",
       "      <td>1200</td>\n",
       "      <td>1200</td>\n",
       "      <td>0</td>\n",
       "      <td>3603</td>\n",
       "      <td>4800</td>\n",
       "      <td>4803</td>\n",
       "      <td>6007</td>\n",
       "      <td>6007</td>\n",
       "      <td>4801</td>\n",
       "      <td>0.061</td>\n",
       "    </tr>\n",
       "    <tr>\n",
       "      <th>138366</th>\n",
       "      <td>kernel_600_600_1_5_9_126</td>\n",
       "      <td>x86_64</td>\n",
       "      <td>Intel</td>\n",
       "      <td>40</td>\n",
       "      <td>1000</td>\n",
       "      <td>640</td>\n",
       "      <td>20480</td>\n",
       "      <td>27648</td>\n",
       "      <td>187.57</td>\n",
       "      <td>28</td>\n",
       "      <td>...</td>\n",
       "      <td>0</td>\n",
       "      <td>1200</td>\n",
       "      <td>3603</td>\n",
       "      <td>3603</td>\n",
       "      <td>7203</td>\n",
       "      <td>4803</td>\n",
       "      <td>6007</td>\n",
       "      <td>6007</td>\n",
       "      <td>4801</td>\n",
       "      <td>0.065</td>\n",
       "    </tr>\n",
       "    <tr>\n",
       "      <th>138367</th>\n",
       "      <td>kernel_600_600_1_5_9_127</td>\n",
       "      <td>x86_64</td>\n",
       "      <td>Intel</td>\n",
       "      <td>40</td>\n",
       "      <td>1000</td>\n",
       "      <td>640</td>\n",
       "      <td>20480</td>\n",
       "      <td>27648</td>\n",
       "      <td>187.57</td>\n",
       "      <td>28</td>\n",
       "      <td>...</td>\n",
       "      <td>1200</td>\n",
       "      <td>1200</td>\n",
       "      <td>3603</td>\n",
       "      <td>3603</td>\n",
       "      <td>9003</td>\n",
       "      <td>4803</td>\n",
       "      <td>6007</td>\n",
       "      <td>6007</td>\n",
       "      <td>5401</td>\n",
       "      <td>0.065</td>\n",
       "    </tr>\n",
       "  </tbody>\n",
       "</table>\n",
       "<p>138368 rows × 25 columns</p>\n",
       "</div>"
      ],
      "text/plain": [
       "                          Kernel Architechture Vendor  CPUs  Cycle   L1  \\\n",
       "0         kernel_100_100_1_5_9_0        x86_64  Intel    40   1000  640   \n",
       "1         kernel_100_100_1_5_9_1        x86_64  Intel    40   1000  640   \n",
       "2         kernel_100_100_1_5_9_2        x86_64  Intel    40   1000  640   \n",
       "3         kernel_100_100_1_5_9_3        x86_64  Intel    40   1000  640   \n",
       "4         kernel_100_100_1_5_9_4        x86_64  Intel    40   1000  640   \n",
       "...                          ...           ...    ...   ...    ...  ...   \n",
       "138363  kernel_600_600_1_5_9_123        x86_64  Intel    40   1000  640   \n",
       "138364  kernel_600_600_1_5_9_124        x86_64  Intel    40   1000  640   \n",
       "138365  kernel_600_600_1_5_9_125        x86_64  Intel    40   1000  640   \n",
       "138366  kernel_600_600_1_5_9_126        x86_64  Intel    40   1000  640   \n",
       "138367  kernel_600_600_1_5_9_127        x86_64  Intel    40   1000  640   \n",
       "\n",
       "           L2     L3    RAM)  Threads  ...  addInt  addFloat  mulInt  \\\n",
       "0       20480  27648  187.57       28  ...       0         0       0   \n",
       "1       20480  27648  187.57       28  ...     200         0       0   \n",
       "2       20480  27648  187.57       28  ...       0         0     603   \n",
       "3       20480  27648  187.57       28  ...     200         0     603   \n",
       "4       20480  27648  187.57       28  ...       0         0       0   \n",
       "...       ...    ...     ...      ...  ...     ...       ...     ...   \n",
       "138363  20480  27648  187.57       28  ...    1200      1200    3603   \n",
       "138364  20480  27648  187.57       28  ...       0      1200       0   \n",
       "138365  20480  27648  187.57       28  ...    1200      1200       0   \n",
       "138366  20480  27648  187.57       28  ...       0      1200    3603   \n",
       "138367  20480  27648  187.57       28  ...    1200      1200    3603   \n",
       "\n",
       "        mulFloat  assignInt  assignFloat  addAssignInt  addAssignFloat  \\\n",
       "0              0          0            0             0               0   \n",
       "1              0        300            0             0               0   \n",
       "2              0        703            0             0               0   \n",
       "3              0       1003            0             0               0   \n",
       "4              0        100            0          1007               0   \n",
       "...          ...        ...          ...           ...             ...   \n",
       "138363      3603       8403         4803             0            6007   \n",
       "138364      3603       3000         4803          6007            6007   \n",
       "138365      3603       4800         4803          6007            6007   \n",
       "138366      3603       7203         4803          6007            6007   \n",
       "138367      3603       9003         4803          6007            6007   \n",
       "\n",
       "        postIncInt   Time  \n",
       "0                1  0.001  \n",
       "1              101  0.001  \n",
       "2              101  0.001  \n",
       "3              201  0.001  \n",
       "4              101  0.001  \n",
       "...            ...    ...  \n",
       "138363        4801  0.057  \n",
       "138364        4201  0.061  \n",
       "138365        4801  0.061  \n",
       "138366        4801  0.065  \n",
       "138367        5401  0.065  \n",
       "\n",
       "[138368 rows x 25 columns]"
      ]
     },
     "execution_count": 2,
     "metadata": {},
     "output_type": "execute_result"
    }
   ],
   "source": [
    "%%time\n",
    "dataset = pd.read_csv(\"data_seawulf.csv\")\n",
    "dataset.columns = ((dataset.columns.str).replace(\"^ \",\"\")).str.replace(\" $\",\"\")\n",
    "dataset"
   ]
  },
  {
   "cell_type": "code",
   "execution_count": 39,
   "metadata": {},
   "outputs": [
    {
     "name": "stdout",
     "output_type": "stream",
     "text": [
      "CPU times: user 308 ms, sys: 26 ms, total: 334 ms\n",
      "Wall time: 432 ms\n"
     ]
    }
   ],
   "source": [
    "%%time\n",
    "scaled_features = dataset.copy()\n",
    "# col_names = ['CPUs','Cycle','L1','L2','L3','RAM)','Threads','Iterations','varDecl','refExpr','intLiteral','floatLiteral','addInt','addFloat','mulInt','mulFloat','assignInt','assignFloat','addAssignInt','addAssignFloat','postIncInt','Time']\n",
    "col_names = ['CPUs','Cycle','L1','L2','L3','RAM)','Threads','Iterations','varDecl','refExpr','intLiteral','floatLiteral','addInt','addFloat','mulInt','mulFloat','assignInt','assignFloat','addAssignInt','addAssignFloat','postIncInt']\n",
    "features = scaled_features[col_names]\n",
    "scaler = StandardScaler().fit(features.values)\n",
    "features = scaler.transform(features.values)\n",
    "scaled_features[col_names] = features\n",
    "#scaled_features\n",
    "x=scaled_features.iloc[:,3:24].values\n",
    "y=scaled_features.iloc[:,24:].values\n",
    "# st_x = StandardScaler()\n",
    "# st_y = StandardScaler()\n",
    "# X = st_x.fit_transform(x)\n",
    "# Y = st_y.fit_transform(y)"
   ]
  },
  {
   "cell_type": "code",
   "execution_count": 5,
   "metadata": {
    "scrolled": true
   },
   "outputs": [
    {
     "name": "stdout",
     "output_type": "stream",
     "text": [
      "CPU times: user 16min 6s, sys: 6.16 s, total: 16min 12s\n",
      "Wall time: 16min 15s\n"
     ]
    },
    {
     "data": {
      "text/plain": [
       "SVR()"
      ]
     },
     "execution_count": 5,
     "metadata": {},
     "output_type": "execute_result"
    }
   ],
   "source": [
    "%%time\n",
    "regressor_rbf = SVR(kernel='rbf')\n",
    "regressor_rbf.fit(x,y.flatten())"
   ]
  },
  {
   "cell_type": "code",
   "execution_count": 6,
   "metadata": {
    "scrolled": true
   },
   "outputs": [
    {
     "name": "stdout",
     "output_type": "stream",
     "text": [
      "CPU times: user 12min 23s, sys: 2.74 s, total: 12min 26s\n",
      "Wall time: 12min 27s\n"
     ]
    },
    {
     "data": {
      "text/plain": [
       "SVR(kernel='linear')"
      ]
     },
     "execution_count": 6,
     "metadata": {},
     "output_type": "execute_result"
    }
   ],
   "source": [
    "%%time\n",
    "regressor_linear = SVR(kernel='linear')\n",
    "regressor_linear.fit(x,y.flatten())"
   ]
  },
  {
   "cell_type": "code",
   "execution_count": 7,
   "metadata": {},
   "outputs": [
    {
     "name": "stdout",
     "output_type": "stream",
     "text": [
      "CPU times: user 2h 1min 15s, sys: 22.8 s, total: 2h 1min 37s\n",
      "Wall time: 2h 6min 15s\n"
     ]
    },
    {
     "data": {
      "text/plain": [
       "SVR(kernel='poly')"
      ]
     },
     "execution_count": 7,
     "metadata": {},
     "output_type": "execute_result"
    }
   ],
   "source": [
    "%%time\n",
    "regressor_poly = SVR(kernel='poly')\n",
    "regressor_poly.fit(x,y.flatten())"
   ]
  },
  {
   "cell_type": "code",
   "execution_count": 8,
   "metadata": {
    "scrolled": true
   },
   "outputs": [
    {
     "name": "stdout",
     "output_type": "stream",
     "text": [
      "CPU times: user 1min 42s, sys: 299 ms, total: 1min 42s\n",
      "Wall time: 1min 42s\n"
     ]
    }
   ],
   "source": [
    "%%time\n",
    "prediction_rbf = regressor_rbf.predict(x)"
   ]
  },
  {
   "cell_type": "code",
   "execution_count": 9,
   "metadata": {},
   "outputs": [
    {
     "name": "stdout",
     "output_type": "stream",
     "text": [
      "CPU times: user 3min 4s, sys: 243 ms, total: 3min 5s\n",
      "Wall time: 3min 5s\n"
     ]
    }
   ],
   "source": [
    "%%time\n",
    "prediction_linear = regressor_linear.predict(x)"
   ]
  },
  {
   "cell_type": "code",
   "execution_count": 10,
   "metadata": {},
   "outputs": [
    {
     "name": "stdout",
     "output_type": "stream",
     "text": [
      "CPU times: user 1min 18s, sys: 95.5 ms, total: 1min 18s\n",
      "Wall time: 1min 18s\n"
     ]
    }
   ],
   "source": [
    "%%time\n",
    "prediction_poly = regressor_poly.predict(x)"
   ]
  },
  {
   "cell_type": "code",
   "execution_count": 11,
   "metadata": {},
   "outputs": [],
   "source": [
    "# plt.scatter(transformed,Y.flatten())\n",
    "# plt.scatter(transformed, prediction_rbf, color='cyan')\n",
    "# plt.scatter(transformed, prediction_linear, color='red')\n",
    "# plt.scatter(transformed, prediction_poly, color='yellow')"
   ]
  },
  {
   "cell_type": "code",
   "execution_count": 12,
   "metadata": {},
   "outputs": [],
   "source": [
    "# mse_rbf=mean_squared_error(Y, prediction_rbf)\n",
    "# rmse_rbf=np.sqrt(mse_rbf)\n",
    "# mse_linear=mean_squared_error(Y, prediction_linear)\n",
    "# rmse_linear=np.sqrt(mse_linear)\n",
    "# mse_poly=mean_squared_error(Y, prediction_poly)\n",
    "# rmse_poly=np.sqrt(mse_poly)\n",
    "# print(f'rbf = {rmse_rbf}, linear = {rmse_linear}, poly = {rmse_poly}')"
   ]
  },
  {
   "cell_type": "code",
   "execution_count": 62,
   "metadata": {},
   "outputs": [
    {
     "data": {
      "text/plain": [
       "<matplotlib.collections.PathCollection at 0x7f9ce7f80be0>"
      ]
     },
     "execution_count": 62,
     "metadata": {},
     "output_type": "execute_result"
    },
    {
     "data": {
      "image/png": "[encoded data removed]",
      "text/plain": [
       "<Figure size 432x288 with 1 Axes>"
      ]
     },
     "metadata": {
      "needs_background": "light"
     },
     "output_type": "display_data"
    }
   ],
   "source": [
    "fig = plt.figure()\n",
    "ax = fig.add_axes([0,0,1,1])\n",
    "ax.scatter(prediction_rbf,y, color='red')\n",
    "ax.scatter(prediction_linear,y, color='yellow')\n",
    "ax.scatter(prediction_poly,y, color='blue')"
   ]
  },
  {
   "cell_type": "code",
   "execution_count": 63,
   "metadata": {},
   "outputs": [
    {
     "name": "stdout",
     "output_type": "stream",
     "text": [
      "rbf = 1.4624571406338756, linear = 4.648080339587879, poly = 0.22198870455926456\n"
     ]
    }
   ],
   "source": [
    "mse_rbf=mean_squared_error(y, prediction_rbf)\n",
    "rmse_rbf=np.sqrt(mse_rbf)\n",
    "mse_linear=mean_squared_error(y, prediction_linear)\n",
    "rmse_linear=np.sqrt(mse_linear)\n",
    "mse_poly=mean_squared_error(y, prediction_poly)\n",
    "rmse_poly=np.sqrt(mse_poly)\n",
    "print(f'rbf = {rmse_rbf}, linear = {rmse_linear}, poly = {rmse_poly}')"
   ]
  },
  {
   "cell_type": "code",
   "execution_count": 64,
   "metadata": {},
   "outputs": [
    {
     "name": "stdout",
     "output_type": "stream",
     "text": [
      "CPU times: user 128 ms, sys: 76.7 ms, total: 205 ms\n",
      "Wall time: 123 ms\n"
     ]
    },
    {
     "data": {
      "text/plain": [
       "4.4674964069567995"
      ]
     },
     "execution_count": 64,
     "metadata": {},
     "output_type": "execute_result"
    }
   ],
   "source": [
    "%%time\n",
    "from sklearn import linear_model\n",
    "reg = linear_model.LinearRegression()\n",
    "reg.fit(x,y)\n",
    "prediction_linReg = reg.predict(x)\n",
    "mse_linReg=mean_squared_error(y, prediction_linReg)\n",
    "rmse_linReg=np.sqrt(mse_linReg)\n",
    "rmse_linReg"
   ]
  }
 ],
 "metadata": {
  "kernelspec": {
   "display_name": "Python 3",
   "language": "python",
   "name": "python3"
  },
  "language_info": {
   "codemirror_mode": {
    "name": "ipython",
    "version": 3
   },
   "file_extension": ".py",
   "mimetype": "text/x-python",
   "name": "python",
   "nbconvert_exporter": "python",
   "pygments_lexer": "ipython3",
   "version": "3.8.5"
  }
 },
 "nbformat": 4,
 "nbformat_minor": 5
}
